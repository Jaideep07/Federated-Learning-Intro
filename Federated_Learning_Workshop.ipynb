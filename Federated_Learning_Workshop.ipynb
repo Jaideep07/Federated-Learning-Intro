{
  "nbformat": 4,
  "nbformat_minor": 0,
  "metadata": {
    "colab": {
      "name": "Federated Learning Workshop.ipynb",
      "provenance": [],
      "collapsed_sections": [],
      "authorship_tag": "ABX9TyOTty8TOyNerx3ZjyhJ5Tev",
      "include_colab_link": true
    },
    "kernelspec": {
      "name": "python3",
      "display_name": "Python 3"
    },
    "language_info": {
      "name": "python"
    }
  },
  "cells": [
    {
      "cell_type": "markdown",
      "metadata": {
        "id": "view-in-github",
        "colab_type": "text"
      },
      "source": [
        "<a href=\"https://colab.research.google.com/github/Jaideep07/Federated-Learning-Intro/blob/main/Federated_Learning_Workshop.ipynb\" target=\"_parent\"><img src=\"https://colab.research.google.com/assets/colab-badge.svg\" alt=\"Open In Colab\"/></a>"
      ]
    },
    {
      "cell_type": "markdown",
      "metadata": {
        "id": "syO9I_BMBaCQ"
      },
      "source": [
        "## FL model implementation using a simple Feed Forward Neural Network on MNIST digits dataset"
      ]
    },
    {
      "cell_type": "code",
      "metadata": {
        "id": "NKtMlxESqJIB"
      },
      "source": [
        "import numpy as np\n",
        "import random\n",
        "import cv2\n",
        "import os\n",
        "\n",
        "from sklearn.model_selection import train_test_split\n",
        "from sklearn.preprocessing import LabelBinarizer\n",
        "from sklearn.model_selection import train_test_split\n",
        "from sklearn.utils import shuffle\n",
        "from sklearn.metrics import accuracy_score\n",
        "\n",
        "import tensorflow as tf\n",
        "from tensorflow.keras.models import Sequential\n",
        "from tensorflow.keras.layers import Activation\n",
        "from tensorflow.keras.layers import Flatten\n",
        "from tensorflow.keras.layers import Dense\n",
        "from tensorflow.keras.optimizers import SGD\n",
        "from tensorflow.keras import backend as K\n",
        "import matplotlib.pyplot as plt"
      ],
      "execution_count": null,
      "outputs": []
    },
    {
      "cell_type": "code",
      "metadata": {
        "id": "civGIMkrr-dU"
      },
      "source": [
        "# loading the MNIST dataset into X and y \n",
        "(X, y),_ = tf.keras.datasets.mnist.load_data()"
      ],
      "execution_count": null,
      "outputs": []
    },
    {
      "cell_type": "code",
      "metadata": {
        "id": "cFaDJ6Jhr-80"
      },
      "source": [
        "# converting the imges of shape 28*28 into a vector of shape 784 and scaling the pixel intensities so \n",
        "# that they fall in the range of 0 and 1. Applying one hot encoding to the target variable y.\n",
        "X = np.array([x.flatten()/255. for x in X])\n",
        "lb = LabelBinarizer()\n",
        "y = lb.fit_transform(y)\n",
        "\n",
        "#split data into training and test set\n",
        "X_train, X_test, y_train, y_test = train_test_split(X, y, test_size=0.2, random_state=42)"
      ],
      "execution_count": null,
      "outputs": []
    },
    {
      "cell_type": "code",
      "metadata": {
        "id": "yFU6jhXUr_Er"
      },
      "source": [
        "def create_clients(X, y, num_clients=10, initial='clients'):\n",
        "    ''' return: a dictionary with keys clients' names and value as \n",
        "                data grps - tuple of images and label lists.\n",
        "        args: \n",
        "            X: a list of numpy arrays of training images\n",
        "            y: a list of binarized labels for each image\n",
        "            num_client: number of fedrated members (clients)\n",
        "            initials: the clients'name prefix, e.g, clients_1 \n",
        "            \n",
        "    '''\n",
        "\n",
        "    #create a list of client names\n",
        "    client_names = ['{}_{}'.format(initial, i+1) for i in range(num_clients)]\n",
        "\n",
        "    #randomize the data\n",
        "    data = list(zip(X, y))\n",
        "    random.shuffle(data)\n",
        "\n",
        "    #split the data equally for each client and place at each client\n",
        "    size = len(data)//num_clients\n",
        "    data_grp = [data[i:i + size] for i in range(0, size*num_clients, size)]\n",
        "\n",
        "    #number of clients must equal number of shards\n",
        "    assert(len(data_grp) == len(client_names))\n",
        "\n",
        "    return {client_names[i] : data_grp[i] for i in range(len(client_names))} "
      ],
      "execution_count": null,
      "outputs": []
    },
    {
      "cell_type": "code",
      "metadata": {
        "id": "AZ4tNoYzu26D"
      },
      "source": [
        "clients = create_clients(X_train, y_train, num_clients=10, initial='client')"
      ],
      "execution_count": null,
      "outputs": []
    },
    {
      "cell_type": "code",
      "metadata": {
        "id": "poreAN4Tr_HB"
      },
      "source": [
        "def batch_data(data_grp, bs=32):\n",
        "    '''Takes in a clients data shard and create a tfds object off it\n",
        "    args:\n",
        "        grp: a data, label constituting a client's data grp\n",
        "        bs:batch size\n",
        "    return:\n",
        "        tfds object'''\n",
        "    #seperate shard into data and labels lists\n",
        "    data, label = zip(*data_grp)\n",
        "    dataset = tf.data.Dataset.from_tensor_slices((list(data), list(label)))\n",
        "    return dataset.shuffle(len(label)).batch(bs)"
      ],
      "execution_count": null,
      "outputs": []
    },
    {
      "cell_type": "code",
      "metadata": {
        "id": "sECx7I0Er_KJ"
      },
      "source": [
        "clients_batched = dict()\n",
        "for (client_name, data) in clients.items():\n",
        "    clients_batched[client_name] = batch_data(data)\n",
        "    \n",
        "#process and batch the test set  \n",
        "test_batched = tf.data.Dataset.from_tensor_slices((X_test, y_test)).batch(len(y_test))"
      ],
      "execution_count": null,
      "outputs": []
    },
    {
      "cell_type": "code",
      "metadata": {
        "id": "1oVjruEfvkUT"
      },
      "source": [
        "class SimpleMLP:\n",
        "    @staticmethod\n",
        "    def build(shape, classes):\n",
        "        model = Sequential()\n",
        "        model.add(Dense(200, input_shape=(shape,)))\n",
        "        model.add(Activation(\"relu\"))\n",
        "        model.add(Dense(200))\n",
        "        model.add(Activation(\"relu\"))\n",
        "        model.add(Dense(classes))\n",
        "        model.add(Activation(\"softmax\"))\n",
        "        return model"
      ],
      "execution_count": null,
      "outputs": []
    },
    {
      "cell_type": "code",
      "metadata": {
        "id": "GQaWQ42IvkXF"
      },
      "source": [
        "lr = 0.01 \n",
        "comms_round = 50\n",
        "loss='categorical_crossentropy'\n",
        "metrics = ['accuracy']\n",
        "optimizer = SGD(learning_rate=lr, \n",
        "                decay=lr / comms_round, \n",
        "                momentum=0.9\n",
        "               )   "
      ],
      "execution_count": null,
      "outputs": []
    },
    {
      "cell_type": "code",
      "metadata": {
        "id": "KsLyV4s57yQO"
      },
      "source": [
        "def weight_scaling_factor(clients_trn_data, client_name):\n",
        "    client_names = list(clients_trn_data.keys())\n",
        "    #get the bs\n",
        "    bs = list(clients_trn_data[client_name])[0][0].shape[0]\n",
        "\n",
        "    #first calculate the total training data points across clinets\n",
        "    global_count = sum([tf.data.experimental.cardinality(clients_trn_data[client_name]).numpy() for client_name in client_names])*bs\n",
        "\n",
        "    # get the total number of data points held by a client\n",
        "    local_count = tf.data.experimental.cardinality(clients_trn_data[client_name]).numpy()*bs\n",
        "    return local_count/global_count\n"
      ],
      "execution_count": null,
      "outputs": []
    },
    {
      "cell_type": "code",
      "metadata": {
        "id": "aQJY9LeZ7z6y"
      },
      "source": [
        "def scale_model_weights(weight, scalar):\n",
        "    '''function for scaling a models weights'''\n",
        "    weight_final = []\n",
        "    steps = len(weight)\n",
        "    for i in range(steps):\n",
        "        weight_final.append(scalar * weight[i])\n",
        "    return weight_final"
      ],
      "execution_count": null,
      "outputs": []
    },
    {
      "cell_type": "code",
      "metadata": {
        "id": "pCLhYC6M71hc"
      },
      "source": [
        "def sum_scaled_weights(scaled_weight_list):\n",
        "    '''Return the sum of the listed scaled weights. The is equivalent to scaled avg of the weights'''\n",
        "    avg_grad = list()\n",
        "    #get the average grad accross all client gradients\n",
        "    for grad_list_tuple in zip(*scaled_weight_list):\n",
        "        layer_mean = tf.math.reduce_sum(grad_list_tuple, axis=0)\n",
        "        avg_grad.append(layer_mean)\n",
        "        \n",
        "    return avg_grad"
      ],
      "execution_count": null,
      "outputs": []
    },
    {
      "cell_type": "code",
      "metadata": {
        "id": "EHHhdW7GvkZ6"
      },
      "source": [
        "def test_model(X_test, Y_test,  model, comm_round):\n",
        "    cce = tf.keras.losses.CategoricalCrossentropy(from_logits=True)\n",
        "    #logits = model.predict(X_test, batch_size=100)\n",
        "    logits = model.predict(X_test)\n",
        "    loss = cce(Y_test, logits)\n",
        "    acc = accuracy_score(tf.argmax(logits, axis=1), tf.argmax(Y_test, axis=1))\n",
        "    print('comm_round: {} | global_acc: {:.3%} | global_loss: {}'.format(comm_round, acc, loss))\n",
        "    return acc, loss\n"
      ],
      "execution_count": null,
      "outputs": []
    },
    {
      "cell_type": "code",
      "metadata": {
        "colab": {
          "base_uri": "https://localhost:8080/"
        },
        "id": "nJWOtATUvkcc",
        "outputId": "f52423d7-a0c3-4c32-8af3-05fcc2d9aafb"
      },
      "source": [
        "#initialize global model\n",
        "smlp_global = SimpleMLP()\n",
        "global_model = smlp_global.build(784, 10)\n",
        "        \n",
        "#commence global training loop\n",
        "for comm_round in range(comms_round):\n",
        "            \n",
        "    # get the global model's weights - will serve as the initial weights for all local models\n",
        "    global_weights = global_model.get_weights()\n",
        "    \n",
        "    #initial list to collect local model weights after scalling\n",
        "    scaled_local_weight_list = list()\n",
        "\n",
        "    #randomize client data - using keys\n",
        "    client_names= list(clients_batched.keys())\n",
        "    random.shuffle(client_names)\n",
        "    \n",
        "    #loop through each client and create new local model\n",
        "    for client in client_names:\n",
        "        smlp_local = SimpleMLP()\n",
        "        local_model = smlp_local.build(784, 10)\n",
        "        local_model.compile(loss=loss, \n",
        "                      optimizer=optimizer, \n",
        "                      metrics=metrics)\n",
        "        \n",
        "        #set local model weight to the weight of the global model\n",
        "        local_model.set_weights(global_weights)\n",
        "        \n",
        "        #fit local model with client's data\n",
        "        local_model.fit(clients_batched[client], epochs=1, verbose=0)\n",
        "        \n",
        "        #scale the model weights and add to list\n",
        "        scaling_factor = weight_scaling_factor(clients_batched, client)\n",
        "        scaled_weights = scale_model_weights(local_model.get_weights(), scaling_factor)\n",
        "        scaled_local_weight_list.append(scaled_weights)\n",
        "        \n",
        "        #clear session to free memory after each communication round\n",
        "        K.clear_session()\n",
        "        \n",
        "    #to get the average over all the local model, we simply take the sum of the scaled weights\n",
        "    average_weights = sum_scaled_weights(scaled_local_weight_list)\n",
        "    \n",
        "    #update global model \n",
        "    global_model.set_weights(average_weights)\n",
        "\n",
        "    #test global model and print out metrics after each communications round\n",
        "    for(X_test, Y_test) in test_batched:\n",
        "        global_acc, global_loss = test_model(X_test, Y_test, global_model, comm_round)\n"
      ],
      "execution_count": null,
      "outputs": [
        {
          "output_type": "stream",
          "name": "stdout",
          "text": [
            "comm_round: 0 | global_acc: 88.775% | global_loss: 1.653571605682373\n",
            "comm_round: 1 | global_acc: 90.883% | global_loss: 1.6104905605316162\n",
            "comm_round: 2 | global_acc: 91.942% | global_loss: 1.5950510501861572\n",
            "comm_round: 3 | global_acc: 92.417% | global_loss: 1.5853462219238281\n",
            "comm_round: 4 | global_acc: 92.950% | global_loss: 1.5780524015426636\n",
            "comm_round: 5 | global_acc: 93.192% | global_loss: 1.5724875926971436\n",
            "comm_round: 6 | global_acc: 93.467% | global_loss: 1.568231225013733\n",
            "comm_round: 7 | global_acc: 93.792% | global_loss: 1.5645662546157837\n",
            "comm_round: 8 | global_acc: 93.917% | global_loss: 1.5615589618682861\n",
            "comm_round: 9 | global_acc: 94.050% | global_loss: 1.5589648485183716\n",
            "comm_round: 10 | global_acc: 94.308% | global_loss: 1.5565916299819946\n",
            "comm_round: 11 | global_acc: 94.408% | global_loss: 1.5544527769088745\n",
            "comm_round: 12 | global_acc: 94.542% | global_loss: 1.5525596141815186\n",
            "comm_round: 13 | global_acc: 94.667% | global_loss: 1.5510752201080322\n",
            "comm_round: 14 | global_acc: 94.667% | global_loss: 1.5494331121444702\n",
            "comm_round: 15 | global_acc: 94.767% | global_loss: 1.5479731559753418\n",
            "comm_round: 16 | global_acc: 94.842% | global_loss: 1.5471733808517456\n",
            "comm_round: 17 | global_acc: 94.833% | global_loss: 1.5458890199661255\n",
            "comm_round: 18 | global_acc: 94.933% | global_loss: 1.5447206497192383\n",
            "comm_round: 19 | global_acc: 95.050% | global_loss: 1.5438674688339233\n",
            "comm_round: 20 | global_acc: 95.092% | global_loss: 1.5430426597595215\n",
            "comm_round: 21 | global_acc: 95.008% | global_loss: 1.5422139167785645\n",
            "comm_round: 22 | global_acc: 95.167% | global_loss: 1.5413132905960083\n",
            "comm_round: 23 | global_acc: 95.150% | global_loss: 1.5409460067749023\n",
            "comm_round: 24 | global_acc: 95.183% | global_loss: 1.5400608777999878\n",
            "comm_round: 25 | global_acc: 95.225% | global_loss: 1.5393403768539429\n",
            "comm_round: 26 | global_acc: 95.275% | global_loss: 1.5387715101242065\n",
            "comm_round: 27 | global_acc: 95.325% | global_loss: 1.538195013999939\n",
            "comm_round: 28 | global_acc: 95.333% | global_loss: 1.537708044052124\n",
            "comm_round: 29 | global_acc: 95.392% | global_loss: 1.5371694564819336\n",
            "comm_round: 30 | global_acc: 95.425% | global_loss: 1.5366227626800537\n",
            "comm_round: 31 | global_acc: 95.383% | global_loss: 1.5363150835037231\n",
            "comm_round: 32 | global_acc: 95.458% | global_loss: 1.535786509513855\n",
            "comm_round: 33 | global_acc: 95.517% | global_loss: 1.5354716777801514\n",
            "comm_round: 34 | global_acc: 95.517% | global_loss: 1.5348232984542847\n",
            "comm_round: 35 | global_acc: 95.575% | global_loss: 1.5344001054763794\n",
            "comm_round: 36 | global_acc: 95.625% | global_loss: 1.5340081453323364\n",
            "comm_round: 37 | global_acc: 95.633% | global_loss: 1.5336552858352661\n",
            "comm_round: 38 | global_acc: 95.683% | global_loss: 1.5333360433578491\n",
            "comm_round: 39 | global_acc: 95.692% | global_loss: 1.5329421758651733\n",
            "comm_round: 40 | global_acc: 95.742% | global_loss: 1.5326755046844482\n",
            "comm_round: 41 | global_acc: 95.833% | global_loss: 1.5322880744934082\n",
            "comm_round: 42 | global_acc: 95.792% | global_loss: 1.5319769382476807\n",
            "comm_round: 43 | global_acc: 95.775% | global_loss: 1.531649112701416\n",
            "comm_round: 44 | global_acc: 95.825% | global_loss: 1.5313783884048462\n",
            "comm_round: 45 | global_acc: 95.842% | global_loss: 1.531030297279358\n",
            "comm_round: 46 | global_acc: 95.850% | global_loss: 1.5308400392532349\n",
            "comm_round: 47 | global_acc: 95.867% | global_loss: 1.5305143594741821\n",
            "comm_round: 48 | global_acc: 95.925% | global_loss: 1.5302512645721436\n",
            "comm_round: 49 | global_acc: 95.900% | global_loss: 1.5300073623657227\n"
          ]
        }
      ]
    },
    {
      "cell_type": "markdown",
      "metadata": {
        "id": "G1B8uo-qIZPs"
      },
      "source": [
        "### Task implement the above algorithm on Fashion MNIST dataset [Dataset link](https://www.tensorflow.org/tutorials/keras/classification)\n",
        "\n",
        "Note:\n",
        "You need the just load the dataset and then run the code as it is to implement the model. Try changing the num_clients and number of local epochs to get better acc."
      ]
    }
  ]
}